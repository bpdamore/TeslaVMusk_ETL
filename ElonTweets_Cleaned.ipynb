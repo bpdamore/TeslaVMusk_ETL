{
 "cells": [
  {
   "cell_type": "code",
   "execution_count": 17,
   "metadata": {},
   "outputs": [],
   "source": [
    "# Import Dependencies\n",
    "\n",
    "import pandas as pd"
   ]
  },
  {
   "cell_type": "code",
   "execution_count": 18,
   "metadata": {},
   "outputs": [
    {
     "output_type": "execute_result",
     "data": {
      "text/plain": "                      id           created_at  \\\n0     849636868052275200  2017-04-05 14:56:29   \n1     848988730585096192  2017-04-03 20:01:01   \n2     848943072423497728  2017-04-03 16:59:35   \n3     848935705057280001  2017-04-03 16:30:19   \n4     848416049573658624  2017-04-02 06:05:23   \n...                  ...                  ...   \n2814  142881284019060736  2011-12-03 08:22:07   \n2815  142880871391838208  2011-12-03 08:20:28   \n2816  142188458125963264  2011-12-01 10:29:04   \n2817  142179928203460608  2011-12-01 09:55:11   \n2818         15434727182  2010-06-04 18:31:57   \n\n                                                   text  \n0     b'And so the robots spared humanity ... https:...  \n1     b\"@ForIn2020 @waltmossberg @mims @defcon_5 Exa...  \n2         b'@waltmossberg @mims @defcon_5 Et tu, Walt?'  \n3                   b'Stormy weather in Shortville ...'  \n4     b\"@DaveLeeBBC @verge Coal is dying due to nat ...  \n...                                                 ...  \n2814               b'That was a total non sequitur btw'  \n2815  b'Great Voltaire quote, arguably better than T...  \n2816  b'I made the volume on the Model S http://t.co...  \n2817  b\"Went to Iceland on Sat to ride bumper cars o...  \n2818  b'Please ignore prior tweets, as that was some...  \n\n[2819 rows x 3 columns]",
      "text/html": "<div>\n<style scoped>\n    .dataframe tbody tr th:only-of-type {\n        vertical-align: middle;\n    }\n\n    .dataframe tbody tr th {\n        vertical-align: top;\n    }\n\n    .dataframe thead th {\n        text-align: right;\n    }\n</style>\n<table border=\"1\" class=\"dataframe\">\n  <thead>\n    <tr style=\"text-align: right;\">\n      <th></th>\n      <th>id</th>\n      <th>created_at</th>\n      <th>text</th>\n    </tr>\n  </thead>\n  <tbody>\n    <tr>\n      <th>0</th>\n      <td>849636868052275200</td>\n      <td>2017-04-05 14:56:29</td>\n      <td>b'And so the robots spared humanity ... https:...</td>\n    </tr>\n    <tr>\n      <th>1</th>\n      <td>848988730585096192</td>\n      <td>2017-04-03 20:01:01</td>\n      <td>b\"@ForIn2020 @waltmossberg @mims @defcon_5 Exa...</td>\n    </tr>\n    <tr>\n      <th>2</th>\n      <td>848943072423497728</td>\n      <td>2017-04-03 16:59:35</td>\n      <td>b'@waltmossberg @mims @defcon_5 Et tu, Walt?'</td>\n    </tr>\n    <tr>\n      <th>3</th>\n      <td>848935705057280001</td>\n      <td>2017-04-03 16:30:19</td>\n      <td>b'Stormy weather in Shortville ...'</td>\n    </tr>\n    <tr>\n      <th>4</th>\n      <td>848416049573658624</td>\n      <td>2017-04-02 06:05:23</td>\n      <td>b\"@DaveLeeBBC @verge Coal is dying due to nat ...</td>\n    </tr>\n    <tr>\n      <th>...</th>\n      <td>...</td>\n      <td>...</td>\n      <td>...</td>\n    </tr>\n    <tr>\n      <th>2814</th>\n      <td>142881284019060736</td>\n      <td>2011-12-03 08:22:07</td>\n      <td>b'That was a total non sequitur btw'</td>\n    </tr>\n    <tr>\n      <th>2815</th>\n      <td>142880871391838208</td>\n      <td>2011-12-03 08:20:28</td>\n      <td>b'Great Voltaire quote, arguably better than T...</td>\n    </tr>\n    <tr>\n      <th>2816</th>\n      <td>142188458125963264</td>\n      <td>2011-12-01 10:29:04</td>\n      <td>b'I made the volume on the Model S http://t.co...</td>\n    </tr>\n    <tr>\n      <th>2817</th>\n      <td>142179928203460608</td>\n      <td>2011-12-01 09:55:11</td>\n      <td>b\"Went to Iceland on Sat to ride bumper cars o...</td>\n    </tr>\n    <tr>\n      <th>2818</th>\n      <td>15434727182</td>\n      <td>2010-06-04 18:31:57</td>\n      <td>b'Please ignore prior tweets, as that was some...</td>\n    </tr>\n  </tbody>\n</table>\n<p>2819 rows × 3 columns</p>\n</div>"
     },
     "metadata": {},
     "execution_count": 18
    }
   ],
   "source": [
    "# Load first set of tweet data from 2010-2017 from the csv file\n",
    "\n",
    "csv_file = \"Resources/ElonTweets_2010-2017.csv\"\n",
    "tweet_data_2010_df = pd.read_csv(csv_file)\n",
    "tweet_data_2010_df"
   ]
  },
  {
   "cell_type": "code",
   "execution_count": 19,
   "metadata": {},
   "outputs": [
    {
     "output_type": "execute_result",
     "data": {
      "text/plain": "                      id           created_at  \\\n0     849636868052275200  2017-04-05 14:56:29   \n1     848988730585096192  2017-04-03 20:01:01   \n2     848943072423497728  2017-04-03 16:59:35   \n3     848935705057280001  2017-04-03 16:30:19   \n4     848416049573658624  2017-04-02 06:05:23   \n...                  ...                  ...   \n2814  142881284019060736  2011-12-03 08:22:07   \n2815  142880871391838208  2011-12-03 08:20:28   \n2816  142188458125963264  2011-12-01 10:29:04   \n2817  142179928203460608  2011-12-01 09:55:11   \n2818         15434727182  2010-06-04 18:31:57   \n\n                                                  Tweet        Date      Time  \n0     b'And so the robots spared humanity ... https:...  2017-04-05  14:56:29  \n1     b\"@ForIn2020 @waltmossberg @mims @defcon_5 Exa...  2017-04-03  20:01:01  \n2         b'@waltmossberg @mims @defcon_5 Et tu, Walt?'  2017-04-03  16:59:35  \n3                   b'Stormy weather in Shortville ...'  2017-04-03  16:30:19  \n4     b\"@DaveLeeBBC @verge Coal is dying due to nat ...  2017-04-02  06:05:23  \n...                                                 ...         ...       ...  \n2814               b'That was a total non sequitur btw'  2011-12-03  08:22:07  \n2815  b'Great Voltaire quote, arguably better than T...  2011-12-03  08:20:28  \n2816  b'I made the volume on the Model S http://t.co...  2011-12-01  10:29:04  \n2817  b\"Went to Iceland on Sat to ride bumper cars o...  2011-12-01  09:55:11  \n2818  b'Please ignore prior tweets, as that was some...  2010-06-04  18:31:57  \n\n[2819 rows x 5 columns]",
      "text/html": "<div>\n<style scoped>\n    .dataframe tbody tr th:only-of-type {\n        vertical-align: middle;\n    }\n\n    .dataframe tbody tr th {\n        vertical-align: top;\n    }\n\n    .dataframe thead th {\n        text-align: right;\n    }\n</style>\n<table border=\"1\" class=\"dataframe\">\n  <thead>\n    <tr style=\"text-align: right;\">\n      <th></th>\n      <th>id</th>\n      <th>created_at</th>\n      <th>Tweet</th>\n      <th>Date</th>\n      <th>Time</th>\n    </tr>\n  </thead>\n  <tbody>\n    <tr>\n      <th>0</th>\n      <td>849636868052275200</td>\n      <td>2017-04-05 14:56:29</td>\n      <td>b'And so the robots spared humanity ... https:...</td>\n      <td>2017-04-05</td>\n      <td>14:56:29</td>\n    </tr>\n    <tr>\n      <th>1</th>\n      <td>848988730585096192</td>\n      <td>2017-04-03 20:01:01</td>\n      <td>b\"@ForIn2020 @waltmossberg @mims @defcon_5 Exa...</td>\n      <td>2017-04-03</td>\n      <td>20:01:01</td>\n    </tr>\n    <tr>\n      <th>2</th>\n      <td>848943072423497728</td>\n      <td>2017-04-03 16:59:35</td>\n      <td>b'@waltmossberg @mims @defcon_5 Et tu, Walt?'</td>\n      <td>2017-04-03</td>\n      <td>16:59:35</td>\n    </tr>\n    <tr>\n      <th>3</th>\n      <td>848935705057280001</td>\n      <td>2017-04-03 16:30:19</td>\n      <td>b'Stormy weather in Shortville ...'</td>\n      <td>2017-04-03</td>\n      <td>16:30:19</td>\n    </tr>\n    <tr>\n      <th>4</th>\n      <td>848416049573658624</td>\n      <td>2017-04-02 06:05:23</td>\n      <td>b\"@DaveLeeBBC @verge Coal is dying due to nat ...</td>\n      <td>2017-04-02</td>\n      <td>06:05:23</td>\n    </tr>\n    <tr>\n      <th>...</th>\n      <td>...</td>\n      <td>...</td>\n      <td>...</td>\n      <td>...</td>\n      <td>...</td>\n    </tr>\n    <tr>\n      <th>2814</th>\n      <td>142881284019060736</td>\n      <td>2011-12-03 08:22:07</td>\n      <td>b'That was a total non sequitur btw'</td>\n      <td>2011-12-03</td>\n      <td>08:22:07</td>\n    </tr>\n    <tr>\n      <th>2815</th>\n      <td>142880871391838208</td>\n      <td>2011-12-03 08:20:28</td>\n      <td>b'Great Voltaire quote, arguably better than T...</td>\n      <td>2011-12-03</td>\n      <td>08:20:28</td>\n    </tr>\n    <tr>\n      <th>2816</th>\n      <td>142188458125963264</td>\n      <td>2011-12-01 10:29:04</td>\n      <td>b'I made the volume on the Model S http://t.co...</td>\n      <td>2011-12-01</td>\n      <td>10:29:04</td>\n    </tr>\n    <tr>\n      <th>2817</th>\n      <td>142179928203460608</td>\n      <td>2011-12-01 09:55:11</td>\n      <td>b\"Went to Iceland on Sat to ride bumper cars o...</td>\n      <td>2011-12-01</td>\n      <td>09:55:11</td>\n    </tr>\n    <tr>\n      <th>2818</th>\n      <td>15434727182</td>\n      <td>2010-06-04 18:31:57</td>\n      <td>b'Please ignore prior tweets, as that was some...</td>\n      <td>2010-06-04</td>\n      <td>18:31:57</td>\n    </tr>\n  </tbody>\n</table>\n<p>2819 rows × 5 columns</p>\n</div>"
     },
     "metadata": {},
     "execution_count": 19
    }
   ],
   "source": [
    "# Split the created_at column into Date and Time columns\n",
    "\n",
    "tweet_data_2010_df[['Date','Time']] = tweet_data_2010_df.created_at.str.split(\" \",expand=True,)\n",
    "tweet_data_2010_df.rename(columns={'text':'Tweet'}, inplace=True)\n",
    "tweet_data_2010_df"
   ]
  },
  {
   "cell_type": "code",
   "execution_count": 21,
   "metadata": {},
   "outputs": [
    {
     "output_type": "execute_result",
     "data": {
      "text/plain": "Date     object\nTime     object\nTweet    object\ndtype: object"
     },
     "metadata": {},
     "execution_count": 21
    }
   ],
   "source": [
    "# Narrow the dataset down to three columns: Date, Time. and Tweet. Remove the extraneous first and last characters that appears in the Tweet column\n",
    "\n",
    "tweet_data_2010_df = tweet_data_2010_df[[\"Date\",\"Time\", \"Tweet\"]].copy()\n",
    "tweet_data_2010_df['Tweet'] = tweet_data_2010_df['Tweet'].str[2:-1]\n",
    "tweet_data_2010_df\n",
    "tweet_data_2010_df.dtypes"
   ]
  },
  {
   "cell_type": "code",
   "execution_count": 22,
   "metadata": {},
   "outputs": [],
   "source": [
    "# Load second set of tweet data from 2017-2020 from the json file\n",
    "\n",
    "import json\n",
    "tweet_list = []\n",
    "with open(\"Resources/ElonTweets_2017-2020.jsonl\") as json_file:\n",
    "    json_list = list(json_file)\n",
    "for json_str in json_list:\n",
    "    result = json.loads(json_str)\n",
    "    text = result\n",
    "    tweet_list.append(text)"
   ]
  },
  {
   "cell_type": "code",
   "execution_count": 23,
   "metadata": {},
   "outputs": [],
   "source": [
    "# Create a tweet_text list to isolate only the tweet text of each row\n",
    "tweet_text = []\n",
    "for tweet in tweet_list:\n",
    "    tweet_text.append(tweet['Text'])"
   ]
  },
  {
   "cell_type": "code",
   "execution_count": 24,
   "metadata": {},
   "outputs": [],
   "source": [
    "# Create a date_time list to isolate when each tweet was created\n",
    "date_time = []\n",
    "for tweet in tweet_list:\n",
    "    date_time.append(tweet[\"CreatedAt\"])"
   ]
  },
  {
   "cell_type": "code",
   "execution_count": 25,
   "metadata": {
    "scrolled": false
   },
   "outputs": [],
   "source": [
    "# Create a date and time list to separate the date and time for each tweet\n",
    "date = []\n",
    "time = []\n",
    "for x in date_time:\n",
    "    dt = x\n",
    "    d,t = dt.split(\" at \")\n",
    "    date.append(d)\n",
    "    time.append(t)"
   ]
  },
  {
   "cell_type": "code",
   "execution_count": 26,
   "metadata": {},
   "outputs": [],
   "source": [
    "# Create a tweet list that breaks each tweet into an individual list item\n",
    "tweet = []\n",
    "for y in tweet_text:\n",
    "    text = y\n",
    "    tweet.append(text)"
   ]
  },
  {
   "cell_type": "code",
   "execution_count": 60,
   "metadata": {
    "scrolled": false
   },
   "outputs": [
    {
     "output_type": "execute_result",
     "data": {
      "text/plain": "                   Date     Time  \\\n0     December 02, 2017  07:33PM   \n1     December 02, 2017  10:46PM   \n2     December 03, 2017  12:01AM   \n3     December 03, 2017  07:05PM   \n4     December 03, 2017  07:07PM   \n...                 ...      ...   \n7687       May 26, 2020  01:03AM   \n7688       May 26, 2020  05:21AM   \n7689       May 26, 2020  07:58AM   \n7690       May 26, 2020  01:56PM   \n7691       May 26, 2020  04:14PM   \n\n                                                  Tweet  \n0     @highqualitysh1t I love the thought of a car d...  \n1     @novaspivack Asimov's Foundation books should ...  \n2     @novaspivack That's certainly the right way to...  \n3     To preserve the transcendent majesty &amp; spe...  \n4                    @harrisonlingren @JW8888888 Busted  \n...                                                 ...  \n7687                       @RealClearNews Worth reading  \n7688  RT @ScienceChannel: Strap yourself into the @S...  \n7689  @RealClearNews Good question https://t.co/8jpu...  \n7690  RT @SpaceX: Falcon 9 and Crew Dragon will lift...  \n7691              @lexfridman @SpaceX @NASA Thanks Lex!  \n\n[7692 rows x 3 columns]",
      "text/html": "<div>\n<style scoped>\n    .dataframe tbody tr th:only-of-type {\n        vertical-align: middle;\n    }\n\n    .dataframe tbody tr th {\n        vertical-align: top;\n    }\n\n    .dataframe thead th {\n        text-align: right;\n    }\n</style>\n<table border=\"1\" class=\"dataframe\">\n  <thead>\n    <tr style=\"text-align: right;\">\n      <th></th>\n      <th>Date</th>\n      <th>Time</th>\n      <th>Tweet</th>\n    </tr>\n  </thead>\n  <tbody>\n    <tr>\n      <th>0</th>\n      <td>December 02, 2017</td>\n      <td>07:33PM</td>\n      <td>@highqualitysh1t I love the thought of a car d...</td>\n    </tr>\n    <tr>\n      <th>1</th>\n      <td>December 02, 2017</td>\n      <td>10:46PM</td>\n      <td>@novaspivack Asimov's Foundation books should ...</td>\n    </tr>\n    <tr>\n      <th>2</th>\n      <td>December 03, 2017</td>\n      <td>12:01AM</td>\n      <td>@novaspivack That's certainly the right way to...</td>\n    </tr>\n    <tr>\n      <th>3</th>\n      <td>December 03, 2017</td>\n      <td>07:05PM</td>\n      <td>To preserve the transcendent majesty &amp;amp; spe...</td>\n    </tr>\n    <tr>\n      <th>4</th>\n      <td>December 03, 2017</td>\n      <td>07:07PM</td>\n      <td>@harrisonlingren @JW8888888 Busted</td>\n    </tr>\n    <tr>\n      <th>...</th>\n      <td>...</td>\n      <td>...</td>\n      <td>...</td>\n    </tr>\n    <tr>\n      <th>7687</th>\n      <td>May 26, 2020</td>\n      <td>01:03AM</td>\n      <td>@RealClearNews Worth reading</td>\n    </tr>\n    <tr>\n      <th>7688</th>\n      <td>May 26, 2020</td>\n      <td>05:21AM</td>\n      <td>RT @ScienceChannel: Strap yourself into the @S...</td>\n    </tr>\n    <tr>\n      <th>7689</th>\n      <td>May 26, 2020</td>\n      <td>07:58AM</td>\n      <td>@RealClearNews Good question https://t.co/8jpu...</td>\n    </tr>\n    <tr>\n      <th>7690</th>\n      <td>May 26, 2020</td>\n      <td>01:56PM</td>\n      <td>RT @SpaceX: Falcon 9 and Crew Dragon will lift...</td>\n    </tr>\n    <tr>\n      <th>7691</th>\n      <td>May 26, 2020</td>\n      <td>04:14PM</td>\n      <td>@lexfridman @SpaceX @NASA Thanks Lex!</td>\n    </tr>\n  </tbody>\n</table>\n<p>7692 rows × 3 columns</p>\n</div>"
     },
     "metadata": {},
     "execution_count": 60
    }
   ],
   "source": [
    "# Combine Date, Time, and Tweet Column into one table\n",
    "\n",
    "tweet_data_2017_df = pd.DataFrame({'Date':date,'Time':time,'Tweet':tweet})\n",
    "tweet_data_2017_df"
   ]
  },
  {
   "cell_type": "code",
   "execution_count": 61,
   "metadata": {
    "scrolled": true
   },
   "outputs": [
    {
     "output_type": "execute_result",
     "data": {
      "text/plain": "Date     object\nTime     object\nTweet    object\ndtype: object"
     },
     "metadata": {},
     "execution_count": 61
    }
   ],
   "source": [
    "# Convert Date format to YYYY-MM-DD and Time format to 24 hr so that the format matches the previous dataset\n",
    "\n",
    "from datetime import datetime\n",
    "tweet_data_2017_df['Date'] = pd.to_datetime(tweet_data_2017_df['Date']).dt.strftime('%Y-%m-%d')\n",
    "tweet_data_2017_df['Time'] = pd.to_datetime(tweet_data_2017_df['Time']).dt.strftime('%H:%M:%S')\n",
    "tweet_data_2017_df.dtypes"
   ]
  },
  {
   "cell_type": "code",
   "execution_count": 62,
   "metadata": {},
   "outputs": [
    {
     "output_type": "execute_result",
     "data": {
      "text/plain": "            Date      Time                                              Tweet\n0     2017-12-02  19:33:00  @highqualitysh1t I love the thought of a car d...\n1     2017-12-02  22:46:00  @novaspivack Asimov's Foundation books should ...\n2     2017-12-03  00:01:00  @novaspivack That's certainly the right way to...\n3     2017-12-03  19:05:00  To preserve the transcendent majesty &amp; spe...\n4     2017-12-03  19:07:00                 @harrisonlingren @JW8888888 Busted\n...          ...       ...                                                ...\n2814  2011-12-03  08:22:07                     at was a total non sequitur bt\n2815  2011-12-03  08:20:28  eat Voltaire quote, arguably better than Twain...\n2816  2011-12-01  10:29:04  made the volume on the Model S http://t.co/wMC...\n2817  2011-12-01  09:55:11  nt to Iceland on Sat to ride bumper cars on ic...\n2818  2010-06-04  18:31:57  ease ignore prior tweets, as that was someone ...\n\n[10493 rows x 3 columns]",
      "text/html": "<div>\n<style scoped>\n    .dataframe tbody tr th:only-of-type {\n        vertical-align: middle;\n    }\n\n    .dataframe tbody tr th {\n        vertical-align: top;\n    }\n\n    .dataframe thead th {\n        text-align: right;\n    }\n</style>\n<table border=\"1\" class=\"dataframe\">\n  <thead>\n    <tr style=\"text-align: right;\">\n      <th></th>\n      <th>Date</th>\n      <th>Time</th>\n      <th>Tweet</th>\n    </tr>\n  </thead>\n  <tbody>\n    <tr>\n      <th>0</th>\n      <td>2017-12-02</td>\n      <td>19:33:00</td>\n      <td>@highqualitysh1t I love the thought of a car d...</td>\n    </tr>\n    <tr>\n      <th>1</th>\n      <td>2017-12-02</td>\n      <td>22:46:00</td>\n      <td>@novaspivack Asimov's Foundation books should ...</td>\n    </tr>\n    <tr>\n      <th>2</th>\n      <td>2017-12-03</td>\n      <td>00:01:00</td>\n      <td>@novaspivack That's certainly the right way to...</td>\n    </tr>\n    <tr>\n      <th>3</th>\n      <td>2017-12-03</td>\n      <td>19:05:00</td>\n      <td>To preserve the transcendent majesty &amp;amp; spe...</td>\n    </tr>\n    <tr>\n      <th>4</th>\n      <td>2017-12-03</td>\n      <td>19:07:00</td>\n      <td>@harrisonlingren @JW8888888 Busted</td>\n    </tr>\n    <tr>\n      <th>...</th>\n      <td>...</td>\n      <td>...</td>\n      <td>...</td>\n    </tr>\n    <tr>\n      <th>2814</th>\n      <td>2011-12-03</td>\n      <td>08:22:07</td>\n      <td>at was a total non sequitur bt</td>\n    </tr>\n    <tr>\n      <th>2815</th>\n      <td>2011-12-03</td>\n      <td>08:20:28</td>\n      <td>eat Voltaire quote, arguably better than Twain...</td>\n    </tr>\n    <tr>\n      <th>2816</th>\n      <td>2011-12-01</td>\n      <td>10:29:04</td>\n      <td>made the volume on the Model S http://t.co/wMC...</td>\n    </tr>\n    <tr>\n      <th>2817</th>\n      <td>2011-12-01</td>\n      <td>09:55:11</td>\n      <td>nt to Iceland on Sat to ride bumper cars on ic...</td>\n    </tr>\n    <tr>\n      <th>2818</th>\n      <td>2010-06-04</td>\n      <td>18:31:57</td>\n      <td>ease ignore prior tweets, as that was someone ...</td>\n    </tr>\n  </tbody>\n</table>\n<p>10493 rows × 3 columns</p>\n</div>"
     },
     "metadata": {},
     "execution_count": 62
    }
   ],
   "source": [
    "# Combine both tables into one dataset for all tweets from 2010-2020 and drop any duplicates\n",
    "combined_tweets = pd.concat([tweet_data_2017_df, tweet_data_2010_df])\n",
    "combined_tweets = combined_tweets.drop_duplicates()\n",
    "combined_tweets"
   ]
  },
  {
   "cell_type": "code",
   "execution_count": 63,
   "metadata": {},
   "outputs": [],
   "source": [
    "# Export to CSV\n",
    "combined_tweets.to_csv('Resources/ElonTweets_Cleaned.csv')"
   ]
  },
  {
   "cell_type": "code",
   "execution_count": null,
   "metadata": {},
   "outputs": [],
   "source": []
  }
 ],
 "metadata": {
  "celltoolbar": "Raw Cell Format",
  "kernelspec": {
   "display_name": "Python 3",
   "language": "python",
   "name": "python3"
  },
  "language_info": {
   "codemirror_mode": {
    "name": "ipython",
    "version": 3
   },
   "file_extension": ".py",
   "mimetype": "text/x-python",
   "name": "python",
   "nbconvert_exporter": "python",
   "pygments_lexer": "ipython3",
   "version": "3.7.6-final"
  }
 },
 "nbformat": 4,
 "nbformat_minor": 4
}